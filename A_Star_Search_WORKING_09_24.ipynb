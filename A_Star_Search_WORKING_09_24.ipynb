{
  "cells": [
    {
      "cell_type": "markdown",
      "metadata": {
        "id": "view-in-github",
        "colab_type": "text"
      },
      "source": [
        "<a href=\"https://colab.research.google.com/github/Love537/30069034LevelSix/blob/main/A_Star_Search_WORKING_09_24.ipynb\" target=\"_parent\"><img src=\"https://colab.research.google.com/assets/colab-badge.svg\" alt=\"Open In Colab\"/></a>"
      ]
    },
    {
      "cell_type": "markdown",
      "id": "b1fb728e",
      "metadata": {
        "id": "b1fb728e"
      },
      "source": [
        "# Assignment 1 - A Star Search - Python Code"
      ]
    },
    {
      "cell_type": "markdown",
      "id": "7af95d52",
      "metadata": {
        "id": "7af95d52"
      },
      "source": [
        "The following code is for you to complete using the instructions contained in the assignment document. Please follow the instructions closely. Your first step should be to edit the map.py file to create your 40 by 40 grid map, fixing the code bugs in the below code, before running your A* Search on your Map."
      ]
    },
    {
      "cell_type": "code",
      "execution_count": 3,
      "id": "sustained-thanks",
      "metadata": {
        "id": "sustained-thanks"
      },
      "outputs": [],
      "source": [
        "import numpy as np\n",
        "from node import Node\n",
        "from queue import PriorityQueue # https://docs.python.org/3/library/queue.html\n",
        "from maps import DiscreteMap"
      ]
    },
    {
      "cell_type": "markdown",
      "id": "ordinary-interview",
      "metadata": {
        "id": "ordinary-interview"
      },
      "source": [
        "# Algorithms"
      ]
    },
    {
      "cell_type": "code",
      "execution_count": 4,
      "id": "honest-thought",
      "metadata": {
        "id": "honest-thought"
      },
      "outputs": [],
      "source": [
        "# You may uncomment/comment this code to experiment with a different heuristic.\n",
        "\n",
        "def distance(node1, node2):\n",
        "    #euclidian_distance\n",
        "    return np.sqrt((node1.x - node2.x)**2+(node1.y - node2.y)**2)\n",
        "\n",
        "#def distance(node1, node2):\n",
        "    #Manhattan_distance\n",
        "    #return np.abs(node1.x - node2.x) + np.abs(node1.y - node2.y)\n",
        "\n",
        "def heuristic(node1, node2):\n",
        "    return distance(node1, node2)\n"
      ]
    },
    {
      "cell_type": "code",
      "execution_count": 5,
      "id": "orange-addition",
      "metadata": {
        "id": "orange-addition"
      },
      "outputs": [],
      "source": [
        "def A_star(game_map, start_node, goal_node):\n",
        "    open_queue = PriorityQueue()\n",
        "    path = [start_node]\n",
        "    f = 0\n",
        "    open_queue.put((f, (start_node, path)))\n",
        "\n",
        "    discovered_nodes = set()\n",
        "    cost_to_reach_goal_node = 0\n",
        "\n",
        "    while not open_queue.empty():\n",
        "        cost, (current_node, path) = open_queue.get()\n",
        "\n",
        "        if current_node not in discovered_nodes:\n",
        "            discovered_nodes.add(current_node)\n",
        "\n",
        "            if current_node == goal_node:\n",
        "                cost_to_reach_goal_node = cost\n",
        "                return path, discovered_nodes, cost_to_reach_goal_node\n",
        "\n",
        "            # Generate children and add to path\n",
        "            for new_node in game_map.get_adjacent_nodes(current_node):\n",
        "                new_path = path.copy()\n",
        "                new_path.append(new_node)\n",
        "\n",
        "                g = cost  # Cost to reach that node\n",
        "                h = heuristic(new_node, goal_node)\n",
        "\n",
        "                f = g + h\n",
        "\n",
        "                open_queue.put((f, (new_node, new_path)))\n",
        "\n",
        "    return [], discovered_nodes, float('inf')  # Return empty path and infinite cost if goal is not reachable\n"
      ]
    },
    {
      "cell_type": "markdown",
      "id": "headed-module",
      "metadata": {
        "id": "headed-module"
      },
      "source": [
        "# Discrete Grid Search"
      ]
    },
    {
      "cell_type": "code",
      "execution_count": 6,
      "id": "1450ac9f",
      "metadata": {
        "id": "1450ac9f"
      },
      "outputs": [],
      "source": [
        "map_height = 10 # Your height here.\n",
        "map_width = 10 # Your width here.\n"
      ]
    },
    {
      "cell_type": "code",
      "execution_count": 7,
      "id": "spatial-visitor",
      "metadata": {
        "id": "spatial-visitor"
      },
      "outputs": [],
      "source": [
        "game_map = DiscreteMap(map_height, map_width)"
      ]
    },
    {
      "cell_type": "markdown",
      "id": "41898fcb",
      "metadata": {
        "id": "41898fcb"
      },
      "source": [
        "## Search 1"
      ]
    },
    {
      "cell_type": "code",
      "execution_count": 8,
      "id": "demographic-torture",
      "metadata": {
        "colab": {
          "base_uri": "https://localhost:8080/",
          "height": 563
        },
        "id": "demographic-torture",
        "outputId": "500d60fe-ce91-4a47-fe9c-e3f5c377a59e"
      },
      "outputs": [
        {
          "output_type": "stream",
          "name": "stdout",
          "text": [
            "Number of nodes explored: 100\n",
            "Cost of the path: 108.85796626055453\n"
          ]
        },
        {
          "output_type": "display_data",
          "data": {
            "text/plain": [
              "<Figure size 600x600 with 1 Axes>"
            ],
            "image/png": "[encoded data removed]"
          },
          "metadata": {}
        }
      ],
      "source": [
        "# Note: This code will error if the start or end nodes are set to wall locations.\n",
        " # Set the starting and goal nodes\n",
        "start_x, start_y = 0, 0\n",
        "goal_x, goal_y = map_width - 1, map_height - 1\n",
        "# STEP 4. - Replace the values of X and Y so that your agent will begin in the lower left and end in the upper right.\n",
        "path, discovered_nodes, cost = A_star(game_map, Node(start_x, start_y), Node(goal_x, goal_y))\n",
        "\n",
        "# STEP 5. - Complete the below print statements to display the number of nodes explored and the cost of the path.\n",
        "\n",
        "# Print the results\n",
        "print(f\"Number of nodes explored: {len(discovered_nodes)}\")\n",
        "print(f\"Cost of the path: {cost}\")\n",
        "\n",
        "game_map.plot_path(path)\n"
      ]
    },
    {
      "cell_type": "markdown",
      "id": "2eb126bd",
      "metadata": {
        "id": "2eb126bd"
      },
      "source": [
        "## Search 2"
      ]
    },
    {
      "cell_type": "code",
      "execution_count": null,
      "id": "external-secret",
      "metadata": {
        "id": "external-secret"
      },
      "outputs": [],
      "source": [
        "# STEP 6. Replace values X and Y so that the search begins in the middle left hand side of the map\n",
        "# and ends in the middle of the right.\n",
        "# STEP 7. There are typos in the below code. Fix these so the code will run.\n",
        "\n",
        "path, discovered_node, cost = A_Star(game_map, node(X, Y), Node(x, y))\n",
        "\n",
        "# STEP 8. - Complete the below print statements to display the number of nodes explored and the cost of the path.\n",
        "print(\"Your print statement here\")\n",
        "print(\"Your print statement here\")\n",
        "\n",
        "    game_map.plot_paths(path)"
      ]
    }
  ],
  "metadata": {
    "kernelspec": {
      "display_name": "Python 3 (ipykernel)",
      "language": "python",
      "name": "python3"
    },
    "language_info": {
      "codemirror_mode": {
        "name": "ipython",
        "version": 3
      },
      "file_extension": ".py",
      "mimetype": "text/x-python",
      "name": "python",
      "nbconvert_exporter": "python",
      "pygments_lexer": "ipython3",
      "version": "3.11.3"
    },
    "colab": {
      "provenance": [],
      "include_colab_link": true
    }
  },
  "nbformat": 4,
  "nbformat_minor": 5
}